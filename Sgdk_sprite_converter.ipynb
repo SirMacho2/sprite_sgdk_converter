{
  "nbformat": 4,
  "nbformat_minor": 0,
  "metadata": {
    "colab": {
      "name": "Sgdk sprite converter.ipynb",
      "provenance": [],
      "collapsed_sections": [],
      "toc_visible": true,
      "authorship_tag": "ABX9TyMRZVRaa1VeP9n+RHhHuqZS",
      "include_colab_link": true
    },
    "kernelspec": {
      "name": "python3",
      "display_name": "Python 3"
    },
    "language_info": {
      "name": "python"
    }
  },
  "cells": [
    {
      "cell_type": "markdown",
      "metadata": {
        "id": "view-in-github",
        "colab_type": "text"
      },
      "source": [
        "<a href=\"https://colab.research.google.com/github/SirMacho2/sprite_sgdk_converter/blob/main/Sgdk_sprite_converter.ipynb\" target=\"_parent\"><img src=\"https://colab.research.google.com/assets/colab-badge.svg\" alt=\"Open In Colab\"/></a>"
      ]
    },
    {
      "cell_type": "markdown",
      "metadata": {
        "id": "eUs3MyW4v6Ox"
      },
      "source": [
        "Variaveis de entrada \n",
        "modifique as variaveis para cada sprites\n",
        "\n",
        "\n",
        "\n",
        "\n",
        "*   **pasta_dos_sprites** = pasta onde vão estar as imagens de cada sprite\n",
        "*   **arquivo_de_saida** = nome do arquivo de saída\n",
        "*   **backgrauond color** = [r g b]\n",
        "*   **numero_de_cores** = numero de cores da saida inclue o background\n",
        "*   **limitar_cores** = marque para limitar a quantidade de cores\n",
        "\n",
        "\n",
        "\n"
      ]
    },
    {
      "cell_type": "code",
      "metadata": {
        "id": "ng4KFVQCwNte",
        "cellView": "form"
      },
      "source": [
        "#@title Variaveis de entrada\n",
        "pasta_dos_sprites = \"/content/ryo_magia\" #@param {type:\"string\"}\n",
        "arquivo_de_saida = \"ryo_magia\" #@param {type:\"string\"}\n",
        "background_color = [248, 0, 248] #@param {type:\"raw\"}\n",
        "numero_de_cores =  5#@param {type:\"integer\"}\n",
        "limitar_cores = True #@param {type:\"boolean\"}\n",
        "# pasta_dos_sprites = '/content/terry parado'\n",
        "# arquivo_de_saida = 'terry_parado'\n",
        "# background_color = [ 255, 0, 255] #cores rgb"
      ],
      "execution_count": 11,
      "outputs": []
    },
    {
      "cell_type": "markdown",
      "metadata": {
        "id": "dwFvtcEvvzy6"
      },
      "source": [
        "Importação das Bibiotecas\n",
        "\n"
      ]
    },
    {
      "cell_type": "code",
      "metadata": {
        "id": "sNKajGgS4vAS"
      },
      "source": [
        "import cv2\n",
        "from matplotlib import pyplot as plt\n",
        "from google.colab.patches import cv2_imshow\n",
        "import os\n",
        "import numpy as np"
      ],
      "execution_count": 12,
      "outputs": []
    },
    {
      "cell_type": "markdown",
      "metadata": {
        "id": "fp7f3d_xwB36"
      },
      "source": [
        "Funções:"
      ]
    },
    {
      "cell_type": "code",
      "metadata": {
        "id": "j9qWx_MRgpDX"
      },
      "source": [
        "def load_images_from_folder(folder):\n",
        "  images = []\n",
        "  files = os.listdir(folder)\n",
        "  files.sort()\n",
        "  for filename in files:\n",
        "    img = cv2.imread(os.path.join(folder,filename))\n",
        "    if img is not None:\n",
        "      images.append(img)\n",
        "  return images\n",
        "\n",
        "def convert_tiles ( min, max, x_y = 'x'):\n",
        "  if (max - min) % 8 != 0:\n",
        "    if x_y == 'x':\n",
        "      max = max + 8 - (max - min) % 8\n",
        "    else:\n",
        "      min = min - 8+ (max - min) % 8\n",
        "  if x_y == 'x':\n",
        "    return max\n",
        "  else:\n",
        "    return min\n",
        "\n",
        "def find_bounds(imgs):\n",
        "  xmin =len(imgs[0][0])\n",
        "  xmax = 0\n",
        "  ymin =len(imgs[0])\n",
        "  ymax = 0\n",
        "  for img in imgs:\n",
        "    for i in range(len(img)):\n",
        "      for j in range(len(img[i])):\n",
        "          if set(img[i][j]) != set(background_color):\n",
        "            if j < xmin:\n",
        "              xmin = j\n",
        "            if j > xmax:\n",
        "              xmax = j\n",
        "            if i < ymin:\n",
        "              ymin = i\n",
        "            if i > ymax:\n",
        "              ymax = i\n",
        "  return xmin, xmax+1, ymin, ymax+1\n",
        "\n",
        "def crop_images(imgs, xmin, xmax, ymin, ymax):\n",
        "  imgs_crop = []\n",
        "  if ymin < 0:\n",
        "    pixel_array = np.full((-ymin, xmax-xmin, 3), background_color, dtype=np.uint8)\n",
        "    for img in imgs:\n",
        "      cv2.vconcat(pixel_array, img)\n",
        "    ymin = 0\n",
        "  \n",
        "  ximg = tuple(imgs[0].shape[1::-1])[0]\n",
        "  if xmax > ximg:\n",
        "    pixel_array = np.full((ymax - ymin, xmax-ximg, 3), background_color, dtype=np.uint8)\n",
        "    for img in imgs:\n",
        "      cv2.hconcat(img, pixel_array)\n",
        "                \n",
        "\n",
        "  for img in imgs:\n",
        "    imgs_crop.append(img[ymin:ymax, xmin:xmax])\n",
        "  return imgs_crop\n",
        "\n",
        "def save_imgs(imgs):\n",
        "  i = 0\n",
        "  for img in imgs:\n",
        "    cv2.imwrite('/content/output/' + str(i) + '.png', img)\n",
        "    i = i + 1\n",
        "\n",
        "def concat_img(imgs):\n",
        "  return cv2.hconcat(imgs)\n",
        "\n",
        "def save_result(img, name, sprinte_count):\n",
        "  if not os.path.exists('/content/output/'):\n",
        "    os.makedirs('/content/output/')\n",
        "  cv2.imwrite('/content/output/' + str(name) + '.png', img)\n",
        "\n",
        "def show_imgs(imgs):\n",
        "  for img in imgs:\n",
        "    cv2_imshow(img)\n",
        "    print(tuple(crop.shape[1::-1]))\n",
        "\n",
        "def change_bg(img):\n",
        "  if set([ 255, 0, 255]) != set(background_color):\n",
        "    for i in range(len(img)):\n",
        "      for j in range(len(img[i])):\n",
        "          if set(img[i][j]) == set(background_color):\n",
        "            img[i][j] = [ 255, 0, 255]\n",
        "                                        \n",
        "\n",
        "def convert_colors(image, k):\n",
        "    i = np.float32(image).reshape(-1,3)\n",
        "    condition = (cv2.TERM_CRITERIA_EPS + cv2.TERM_CRITERIA_MAX_ITER,20,1.0)\n",
        "    ret,label,center = cv2.kmeans(i, k , None, condition,10,cv2.KMEANS_RANDOM_CENTERS)\n",
        "    center = np.uint8(center)\n",
        "    final_img = center[label.flatten()]\n",
        "    final_img = final_img.reshape(image.shape)\n",
        "    return final_img\n",
        "\n",
        "def count_colors(img):\n",
        "  unique, counts   = np.unique(img.reshape(-1, img.shape[-1]), axis=0, return_counts=True)\n",
        "  return len(counts)"
      ],
      "execution_count": 13,
      "outputs": []
    },
    {
      "cell_type": "markdown",
      "metadata": {
        "id": "nhyxEfR4v96Q"
      },
      "source": [
        "Código principal"
      ]
    },
    {
      "cell_type": "code",
      "metadata": {
        "id": "2EIDShFaUjjS"
      },
      "source": [
        "imgs = load_images_from_folder(pasta_dos_sprites)\n",
        "  \n",
        "xmin, xmax, ymin, ymax = find_bounds(imgs)\n",
        "xmax = convert_tiles(xmin, xmax, 'x')\n",
        "ymin = convert_tiles(ymin, ymax, 'y')\n",
        "\n",
        "imgs_cropeds = crop_images(imgs, xmin, xmax, ymin, ymax)\n",
        "concatened = concat_img(imgs_cropeds)\n",
        "change_bg(concatened)\n",
        "\n",
        "if count_colors(concatened) > numero_de_cores and limitar_cores :\n",
        "  final = convert_colors(concatened, numero_de_cores)\n",
        "else:\n",
        "  final = concatened\n",
        "save_result(final, arquivo_de_saida, len(imgs_cropeds))"
      ],
      "execution_count": 14,
      "outputs": []
    },
    {
      "cell_type": "markdown",
      "metadata": {
        "id": "TD4N8tsk3-Pu"
      },
      "source": [
        "Script para testes"
      ]
    },
    {
      "cell_type": "code",
      "metadata": {
        "colab": {
          "base_uri": "https://localhost:8080/",
          "height": 183
        },
        "id": "glJeG0W0qAUM",
        "outputId": "3ed65cca-4330-44d0-eac7-9436442d29cf"
      },
      "source": [
        "print('xmin = ' + str(xmin) + ' xmax = ' + str(xmax) + ' ymin = ' +\n",
        "      str(ymin) +' ymax = ' + str(ymax))\n",
        "\n",
        "print(count_colors(final))\n",
        "cv2_imshow(final)\n"
      ],
      "execution_count": 15,
      "outputs": [
        {
          "output_type": "stream",
          "name": "stdout",
          "text": [
            "xmin = 112 xmax = 224 ymin = 64 ymax = 176\n",
            "4\n"
          ]
        },
        {
          "output_type": "display_data",
          "data": {
            "image/png": "[encoded data removed]",
            "text/plain": [
              "<PIL.Image.Image image mode=RGB size=1680x112 at 0x7FE6B7AA7E90>"
            ]
          },
          "metadata": {}
        }
      ]
    }
  ]
}