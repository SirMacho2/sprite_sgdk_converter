{
  "nbformat": 4,
  "nbformat_minor": 0,
  "metadata": {
    "colab": {
      "name": "Sgdk sprite converter.ipynb",
      "provenance": [],
      "collapsed_sections": [],
      "authorship_tag": "ABX9TyM4uP2OQETM2BYkwBBDuIkl",
      "include_colab_link": true
    },
    "kernelspec": {
      "name": "python3",
      "display_name": "Python 3"
    },
    "language_info": {
      "name": "python"
    }
  },
  "cells": [
    {
      "cell_type": "markdown",
      "metadata": {
        "id": "view-in-github",
        "colab_type": "text"
      },
      "source": [
        "<a href=\"https://colab.research.google.com/github/SirMacho2/sprite_sgdk_converter/blob/main/Sgdk_sprite_converter.ipynb\" target=\"_parent\"><img src=\"https://colab.research.google.com/assets/colab-badge.svg\" alt=\"Open In Colab\"/></a>"
      ]
    },
    {
      "cell_type": "markdown",
      "metadata": {
        "id": "eUs3MyW4v6Ox"
      },
      "source": [
        "Variaveis de entrada \n",
        "modifique as variaveis para cada sprites\n",
        "\n",
        "\n",
        "\n",
        "\n",
        "*   **pasta_dos_sprites** = pasta onde vão estar as imagens de cada sprite\n",
        "*   **arquivo_de_saida** = nome do arquivo de saída\n",
        "*   **backgrauond color** = [r g b]\n",
        "*   **numero_de_cores** = numero de cores da saida inclue o background\n",
        "*   **limitar_cores** = marque para limitar a quantidade de cores\n",
        "\n",
        "\n",
        "\n"
      ]
    },
    {
      "cell_type": "code",
      "metadata": {
        "id": "ng4KFVQCwNte"
      },
      "source": [
        "#@title Variaveis de entrada\n",
        "pasta_dos_sprites = \"/content/ryo_pulando\" #@param {type:\"string\"}\n",
        "arquivo_de_saida = \"ryo_pulando\" #@param {type:\"string\"}\n",
        "background_color = [248, 0, 248] #@param {type:\"raw\"}\n",
        "numero_de_cores =  10#@param {type:\"integer\"}\n",
        "limitar_cores = False #@param {type:\"boolean\"}\n",
        "autodetect_backgroud_color = True #@param {type:\"boolean\"}"
      ],
      "execution_count": null,
      "outputs": []
    },
    {
      "cell_type": "markdown",
      "metadata": {
        "id": "dwFvtcEvvzy6"
      },
      "source": [
        "Importação das Bibiotecas\n",
        "\n"
      ]
    },
    {
      "cell_type": "code",
      "metadata": {
        "id": "sNKajGgS4vAS"
      },
      "source": [
        "import cv2\n",
        "from matplotlib import pyplot as plt\n",
        "from google.colab.patches import cv2_imshow\n",
        "import os\n",
        "import numpy as np\n",
        "from PIL import Image\n",
        "import copy"
      ],
      "execution_count": null,
      "outputs": []
    },
    {
      "cell_type": "markdown",
      "metadata": {
        "id": "fp7f3d_xwB36"
      },
      "source": [
        "Funções:"
      ]
    },
    {
      "cell_type": "code",
      "metadata": {
        "id": "j9qWx_MRgpDX"
      },
      "source": [
        "def load_images_from_folder(folder):\n",
        "  images = []\n",
        "  files = os.listdir(folder)\n",
        "  files.sort()\n",
        "  for filename in files:\n",
        "    img = cv2.imread(os.path.join(folder,filename))\n",
        "    if img is not None:\n",
        "      images.append(img)\n",
        "  return images\n",
        "\n",
        "def convert_tiles ( min, max, x_y = 'x'):\n",
        "  if (max - min) % 8 != 0:\n",
        "    if x_y == 'x':\n",
        "      max = max + 8 - (max - min) % 8\n",
        "    else:\n",
        "      min = min - 8+ (max - min) % 8\n",
        "  if x_y == 'x':\n",
        "    return max\n",
        "  else:\n",
        "    return min\n",
        "\n",
        "def find_bounds(imgs):\n",
        "  xmin =len(imgs[0][0])\n",
        "  xmax = 0\n",
        "  ymin =len(imgs[0])\n",
        "  ymax = 0\n",
        "  for img in imgs:\n",
        "    for i in range(len(img)):\n",
        "      for j in range(len(img[i])):\n",
        "          if set(img[i][j]) != set(background_color):\n",
        "            if j < xmin:\n",
        "              xmin = j\n",
        "            if j > xmax:\n",
        "              xmax = j\n",
        "            if i < ymin:\n",
        "              ymin = i\n",
        "            if i > ymax:\n",
        "              ymax = i\n",
        "  return xmin, xmax+1, ymin, ymax+1\n",
        "\n",
        "def crop_images(imgs, xmin, xmax, ymin, ymax):\n",
        "  imgs_crop = []\n",
        "  if ymin < 0:\n",
        "    pixel_array = np.full((-ymin, xmax-xmin, 3), background_color, dtype=np.uint8)\n",
        "    for img in imgs:\n",
        "      img = cv2.vconcat(pixel_array, img)\n",
        "    ymin = 0\n",
        "  \n",
        "  ximg = tuple(imgs[0].shape[1::-1])[0]\n",
        "  if xmax > ximg:\n",
        "    pixel_array = np.full((ymax - ymin, xmax-ximg, 3), background_color, dtype=np.uint8)\n",
        "    for img in imgs:\n",
        "      img = cv2.hconcat(img, pixel_array)\n",
        "                \n",
        "\n",
        "  for img in imgs:\n",
        "    imgs_crop.append(img[ymin:ymax, xmin:xmax])\n",
        "  return imgs_crop\n",
        "\n",
        "def save_imgs(imgs):\n",
        "  i = 0\n",
        "  for img in imgs:\n",
        "    cv2.imwrite('/content/output/' + str(i) + '.png', img)\n",
        "    i = i + 1\n",
        "\n",
        "def concat_img(imgs):\n",
        "  return cv2.hconcat(imgs)\n",
        "\n",
        "def save_result(img, name, sprinte_count):\n",
        "  if not os.path.exists('/content/output/'):\n",
        "    os.makedirs('/content/output/')\n",
        "  cv2.imwrite('/content/output/' + str(name) + '.png', img)\n",
        "\n",
        "def show_imgs(imgs):\n",
        "  for img in imgs:\n",
        "    cv2_imshow(img)\n",
        "    print(tuple(img.shape[1::-1]))\n",
        "\n",
        "def change_bg(img):\n",
        "  if set([ 255, 0, 255]) != set(background_color):\n",
        "    return modify_color(img, background_color, [ 255, 0, 255])\n",
        "  return img\n",
        "    \n",
        "                                        \n",
        "\n",
        "def convert_colors(image, k):\n",
        "    i = np.float32(image).reshape(-1,3)\n",
        "    condition = (cv2.TERM_CRITERIA_EPS + cv2.TERM_CRITERIA_MAX_ITER,20,1.0)\n",
        "    ret,label,center = cv2.kmeans(i, k , None, condition,10,cv2.KMEANS_RANDOM_CENTERS)\n",
        "    center = np.uint8(center)\n",
        "    final_img = center[label.flatten()]\n",
        "    final_img = final_img.reshape(image.shape)\n",
        "    return final_img\n",
        "\n",
        "def count_colors(img):\n",
        "  unique, counts   = np.unique(img.reshape(-1, img.shape[-1]), axis=0, return_counts=True)\n",
        "  return len(counts)\n",
        "\n",
        "def modify_color(img, color_before, color_after):\n",
        "  color_change = np.copy(img)\n",
        "  for i in range(len(img)):\n",
        "        for j in range(len(img[i])):\n",
        "            if set(img[i][j]) == set(color_before):\n",
        "              color_change[i][j] = color_after\n",
        "  return color_change\n",
        "\n",
        "def get_pallet(img):\n",
        "  unique, counts   = np.unique(img.reshape(-1, img.shape[-1]), axis=0, return_counts=True)\n",
        "  pal = np.full((20, 1, 3), [0, 0, 0], dtype=np.uint8)\n",
        "  for color in unique:\n",
        "    pixel_array = np.full((20, 20, 3), color, dtype=np.uint8)\n",
        "    pal = np.concatenate((pal, pixel_array), axis=1)\n",
        "  return unique, pal\n",
        "\n",
        "def save_result2(img, name, sprinte_count):\n",
        "  if not os.path.exists('/content/output/'):\n",
        "    os.makedirs('/content/output/')\n",
        "  # cv2.imwrite('/content/output/' + str(name) + '.png', img)\n",
        "\n",
        "\n",
        "def save_8bpp(img, name):\n",
        "  if not os.path.exists('/content/output/'):\n",
        "    os.makedirs('/content/output/')\n",
        "  img_path = '/content/output/' + str(name) + '.png'\n",
        "  img = cv2.cvtColor(img, cv2.COLOR_BGR2RGB)\n",
        "  img = Image.fromarray(img)\n",
        "  palette = convert_palette(img)\n",
        "  if 768 % len(palette) != 0:\n",
        "    raise Exception('error', 'invalid palette size')\n",
        "  \n",
        "  scale = 768//len(palette)\n",
        "  \n",
        "  img1 = img.convert(mode='RGB')\n",
        "\n",
        "  p_img = Image.new('P', (16, 16))\n",
        "  p_img.putpalette(palette*scale)\n",
        "  conv = img1.quantize(palette=p_img, dither=0)\n",
        "  conv.save(img_path)\n",
        "  return conv\n",
        "\n",
        "def convert_1d_to_2d(l, cols):\n",
        "    return [l[i:i + cols] for i in range(0, len(l), cols)]\n",
        "\n",
        "def convert_palette(img):\n",
        "  img = img.quantize()\n",
        "  unique = convert_1d_to_2d(img.getpalette(),3)\n",
        "  buffer = copy.copy(unique[0])\n",
        "  for i in range(len(unique)):\n",
        "    if set(unique[i]) == set([255, 0, 255]):\n",
        "      unique[i] = buffer\n",
        "  unique[0] = [255, 0, 255]\n",
        "  unique = [j for sub in unique for j in sub]\n",
        "  return unique\n"
      ],
      "execution_count": null,
      "outputs": []
    },
    {
      "cell_type": "markdown",
      "metadata": {
        "id": "nhyxEfR4v96Q"
      },
      "source": [
        "Código principal"
      ]
    },
    {
      "cell_type": "code",
      "metadata": {
        "id": "2EIDShFaUjjS",
        "colab": {
          "base_uri": "https://localhost:8080/"
        },
        "outputId": "a33764a4-d187-4df7-e017-1758d078e28b"
      },
      "source": [
        "imgs = load_images_from_folder(pasta_dos_sprites)\n",
        "\n",
        "if autodetect_backgroud_color:\n",
        "  background_color = imgs[0][0][0]\n",
        "  print(background_color)\n",
        "  \n",
        "xmin, xmax, ymin, ymax = find_bounds(imgs)\n",
        "xmax = convert_tiles(xmin, xmax, 'x')\n",
        "ymin = convert_tiles(ymin, ymax, 'y')\n",
        "\n",
        "imgs_cropeds = crop_images(imgs, xmin, xmax, ymin, ymax)\n",
        "concatened = concat_img(imgs_cropeds)\n",
        "concatened = change_bg(concatened)\n",
        "\n",
        "if count_colors(concatened) > numero_de_cores and limitar_cores :\n",
        "  final = convert_colors(concatened, numero_de_cores)\n",
        "else:\n",
        "  final = concatened\n",
        "# save_result(final, arquivo_de_saida, len(imgs_cropeds))\n"
      ],
      "execution_count": null,
      "outputs": [
        {
          "output_type": "stream",
          "name": "stdout",
          "text": [
            "[248   0 248]\n"
          ]
        }
      ]
    },
    {
      "cell_type": "code",
      "metadata": {
        "colab": {
          "base_uri": "https://localhost:8080/",
          "height": 343
        },
        "id": "Ep3wqJuuctkV",
        "outputId": "ca0ad1c0-c285-4b68-c639-2fe313284c84"
      },
      "source": [
        "#@title Modificar cor da palheta\n",
        "#@markdown Para carregar palheta de arquivo selecione modificar e carregar_de_arquivo.\n",
        "#@markdown O arquivo deve estar fora de todas as pastas e ter o nome **pal.png**.\n",
        "\n",
        "#@markdown Para modificar uma cor especifica selecione o numero da cor de 0 a n-1\n",
        "#@markdown e ajuste a cor nos cursores das componentes rgb\n",
        " \n",
        "\n",
        "\n",
        "red = 0 #@param {type:\"slider\", min:0, max:255, step:1}\n",
        "green = 0 #@param {type:\"slider\", min:0, max:255, step:1}\n",
        "blue = 0 #@param {type:\"slider\", min:0, max:255, step:1}\n",
        "index_pallet =  0#@param {type:\"number\"}\n",
        "modificar = False #@param {type:\"boolean\"}\n",
        "carregar_de_arquivo = False #@param {type:\"boolean\"}\n",
        "\n",
        "#@markdown A palheta de cores original da imagem é mostrada abaixo:\n",
        "\n",
        "unique, pal = get_pallet(final)\n",
        "if modificar:\n",
        "  if carregar_de_arquivo:\n",
        "    pal_img = cv2.imread('/content/pal.png')\n",
        "    unique_padrao, pal_padrao = get_pallet(pal_img)\n",
        "    cv2_imshow(pal_padrao)\n",
        "    if len(unique_padrao) <= len(unique):\n",
        "      for i in range(len(unique_padrao)):\n",
        "        final = modify_color(final, unique[i].tolist(), unique_padrao[i].tolist())\n",
        "    else:\n",
        "      for i in range(len(unique)):\n",
        "        final = modify_color(final, unique[i].tolist(), unique_padrao[i].tolist())\n",
        "  else:\n",
        "    final = modify_color(final, unique[index_pallet].tolist(), [ blue, green , red])\n",
        "\n",
        "\n",
        "cv2_imshow(pal)\n",
        "save_result(final, arquivo_de_saida + '_24bpp', len(imgs_cropeds))\n",
        "cv2_imshow(final)\n",
        "print('imagem 24bpp')\n",
        "display(save_8bpp(final, arquivo_de_saida+ '_8bpp'))\n",
        "print('imagem 8bpp')"
      ],
      "execution_count": null,
      "outputs": [
        {
          "output_type": "display_data",
          "data": {
            "image/png": "[encoded data removed]",
            "text/plain": [
              "<PIL.Image.Image image mode=RGB size=321x20 at 0x7EFF657E9350>"
            ]
          },
          "metadata": {}
        },
        {
          "output_type": "display_data",
          "data": {
            "image/png": "[encoded data removed]",
            "text/plain": [
              "<PIL.Image.Image image mode=RGB size=224x136 at 0x7EFF65773510>"
            ]
          },
          "metadata": {}
        },
        {
          "output_type": "stream",
          "name": "stdout",
          "text": [
            "imagem 24bpp\n"
          ]
        },
        {
          "output_type": "display_data",
          "data": {
            "image/png": "[encoded data removed]",
            "text/plain": [
              "<PIL.Image.Image image mode=P size=224x136 at 0x7EFF65773990>"
            ]
          },
          "metadata": {}
        },
        {
          "output_type": "stream",
          "name": "stdout",
          "text": [
            "imagem 8bpp\n"
          ]
        }
      ]
    },
    {
      "cell_type": "markdown",
      "metadata": {
        "id": "TD4N8tsk3-Pu"
      },
      "source": [
        "Script para testes"
      ]
    },
    {
      "cell_type": "code",
      "metadata": {
        "colab": {
          "base_uri": "https://localhost:8080/"
        },
        "id": "glJeG0W0qAUM",
        "outputId": "1a54de60-2b3a-4387-d7d1-01fd7dfa7a6d"
      },
      "source": [
        "print('xmin = ' + str(xmin) + ' xmax = ' + str(xmax) + ' ymin = ' +\n",
        "      str(ymin) +' ymax = ' + str(ymax))\n",
        "\n",
        "print(count_colors(final))\n"
      ],
      "execution_count": null,
      "outputs": [
        {
          "output_type": "stream",
          "name": "stdout",
          "text": [
            "xmin = 121 xmax = 177 ymin = 65 ymax = 201\n",
            "16\n"
          ]
        }
      ]
    }
  ]
}